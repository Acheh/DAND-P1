{
 "cells": [
  {
   "cell_type": "markdown",
   "metadata": {},
   "source": [
    "# Stroop Effect Analysis\n",
    "\n",
    ">In a Stroop task, participants are presented with a list of words, with each word displayed in a color of ink. The participant's task is to say out loud the color of the ink in which the word is printed. The task has two conditions: a congruent words condition, and an incongruent words condition. In the congruent words condition, the words being displayed are color words whose names match the colors in which they are printed: for example **<font color='red'>RED</font>**, **<font color='blue'>BLUE</font>**. In the incongruent words condition, the words displayed are color words whose names do not match the colors in which they are printed: for example **<font color='green'>PINK</font>**, **<font color='brown'>ORANGE</font>**. In each case, we measure the time it takes to name the ink colors in equally-sized lists. Each participant will go through and record a time from each condition.\n",
    "\n",
    "## Variables\n",
    "\n",
    "#### Independent Variable\n",
    "\n",
    "The words condition is the independent variable in this test. There are two words condition being tested: a congruent words condition and an incongruent words condition.\n",
    "\n",
    "#### Dependent Variable\n",
    "\n",
    "Performance in Stroop task measured in the time it takes to name the ink colors in equally-sized lists (finish time) in seconds. Higher finish time means lower performance.\n",
    "\n",
    "\n",
    "## Hypothesis\n",
    "\n",
    "Suppose $\\mu_c$ is the average time it takes to name the ink colors in congruent words condition and $\\mu_i$ is the average time it takes to name the ink colors in incongruent words condition, then the null hypothesis, $H_0$, and the alternative hypothesis, $H_A$, is defined as follow:\n",
    "\n",
    "$$ H_0: \\mu_c - \\mu_i \\ge 0$$\n",
    "$$H_A: \\mu_c - \\mu_i < 0$$\n",
    "\n",
    "## Expectation\n",
    "\n",
    "The expected result of this test is that performance in incongruent task is statistically significantly lower than in congruent task.\n",
    "\n",
    "## Test Type\n",
    "\n",
    "Since the dependent variable in Stroop task, the performance, is measured in a continuous scale and since the independent variable, the words conditions, consists of two categorical matched pairs, then it is appropriate to conduct a repeated measures t-test on sample differences. This test assume that the finish time differences is approximately normally distributed. \n",
    "\n",
    "\n",
    "## Dataset\n",
    "\n",
    "A random sample (*N*=24) of test result was collected from self-submitted online Interactive Stroop Effect test. Below is the dataset that contains paired performance results of congruent and incongruent task and the difference between each pair for each participant in the sample "
   ]
  },
  {
   "cell_type": "code",
   "execution_count": 47,
   "metadata": {
    "collapsed": false,
    "scrolled": true
   },
   "outputs": [
    {
     "data": {
      "text/html": [
       "<div>\n",
       "<table border=\"1\" class=\"dataframe\">\n",
       "  <thead>\n",
       "    <tr style=\"text-align: right;\">\n",
       "      <th></th>\n",
       "      <th>Congruent</th>\n",
       "      <th>Incongruent</th>\n",
       "      <th>Differences</th>\n",
       "    </tr>\n",
       "  </thead>\n",
       "  <tbody>\n",
       "    <tr>\n",
       "      <th>1</th>\n",
       "      <td>12.079</td>\n",
       "      <td>19.278</td>\n",
       "      <td>-7.199</td>\n",
       "    </tr>\n",
       "    <tr>\n",
       "      <th>2</th>\n",
       "      <td>16.791</td>\n",
       "      <td>18.741</td>\n",
       "      <td>-1.950</td>\n",
       "    </tr>\n",
       "    <tr>\n",
       "      <th>3</th>\n",
       "      <td>9.564</td>\n",
       "      <td>21.214</td>\n",
       "      <td>-11.650</td>\n",
       "    </tr>\n",
       "    <tr>\n",
       "      <th>4</th>\n",
       "      <td>8.630</td>\n",
       "      <td>15.687</td>\n",
       "      <td>-7.057</td>\n",
       "    </tr>\n",
       "    <tr>\n",
       "      <th>5</th>\n",
       "      <td>14.669</td>\n",
       "      <td>22.803</td>\n",
       "      <td>-8.134</td>\n",
       "    </tr>\n",
       "    <tr>\n",
       "      <th>6</th>\n",
       "      <td>12.238</td>\n",
       "      <td>20.878</td>\n",
       "      <td>-8.640</td>\n",
       "    </tr>\n",
       "    <tr>\n",
       "      <th>7</th>\n",
       "      <td>14.692</td>\n",
       "      <td>24.572</td>\n",
       "      <td>-9.880</td>\n",
       "    </tr>\n",
       "    <tr>\n",
       "      <th>8</th>\n",
       "      <td>8.987</td>\n",
       "      <td>17.394</td>\n",
       "      <td>-8.407</td>\n",
       "    </tr>\n",
       "    <tr>\n",
       "      <th>9</th>\n",
       "      <td>9.401</td>\n",
       "      <td>20.762</td>\n",
       "      <td>-11.361</td>\n",
       "    </tr>\n",
       "    <tr>\n",
       "      <th>10</th>\n",
       "      <td>14.480</td>\n",
       "      <td>26.282</td>\n",
       "      <td>-11.802</td>\n",
       "    </tr>\n",
       "    <tr>\n",
       "      <th>11</th>\n",
       "      <td>22.328</td>\n",
       "      <td>24.524</td>\n",
       "      <td>-2.196</td>\n",
       "    </tr>\n",
       "    <tr>\n",
       "      <th>12</th>\n",
       "      <td>15.298</td>\n",
       "      <td>18.644</td>\n",
       "      <td>-3.346</td>\n",
       "    </tr>\n",
       "    <tr>\n",
       "      <th>13</th>\n",
       "      <td>15.073</td>\n",
       "      <td>17.510</td>\n",
       "      <td>-2.437</td>\n",
       "    </tr>\n",
       "    <tr>\n",
       "      <th>14</th>\n",
       "      <td>16.929</td>\n",
       "      <td>20.330</td>\n",
       "      <td>-3.401</td>\n",
       "    </tr>\n",
       "    <tr>\n",
       "      <th>15</th>\n",
       "      <td>18.200</td>\n",
       "      <td>35.255</td>\n",
       "      <td>-17.055</td>\n",
       "    </tr>\n",
       "    <tr>\n",
       "      <th>16</th>\n",
       "      <td>12.130</td>\n",
       "      <td>22.158</td>\n",
       "      <td>-10.028</td>\n",
       "    </tr>\n",
       "    <tr>\n",
       "      <th>17</th>\n",
       "      <td>18.495</td>\n",
       "      <td>25.139</td>\n",
       "      <td>-6.644</td>\n",
       "    </tr>\n",
       "    <tr>\n",
       "      <th>18</th>\n",
       "      <td>10.639</td>\n",
       "      <td>20.429</td>\n",
       "      <td>-9.790</td>\n",
       "    </tr>\n",
       "    <tr>\n",
       "      <th>19</th>\n",
       "      <td>11.344</td>\n",
       "      <td>17.425</td>\n",
       "      <td>-6.081</td>\n",
       "    </tr>\n",
       "    <tr>\n",
       "      <th>20</th>\n",
       "      <td>12.369</td>\n",
       "      <td>34.288</td>\n",
       "      <td>-21.919</td>\n",
       "    </tr>\n",
       "    <tr>\n",
       "      <th>21</th>\n",
       "      <td>12.944</td>\n",
       "      <td>23.894</td>\n",
       "      <td>-10.950</td>\n",
       "    </tr>\n",
       "    <tr>\n",
       "      <th>22</th>\n",
       "      <td>14.233</td>\n",
       "      <td>17.960</td>\n",
       "      <td>-3.727</td>\n",
       "    </tr>\n",
       "    <tr>\n",
       "      <th>23</th>\n",
       "      <td>19.710</td>\n",
       "      <td>22.058</td>\n",
       "      <td>-2.348</td>\n",
       "    </tr>\n",
       "    <tr>\n",
       "      <th>24</th>\n",
       "      <td>16.004</td>\n",
       "      <td>21.157</td>\n",
       "      <td>-5.153</td>\n",
       "    </tr>\n",
       "  </tbody>\n",
       "</table>\n",
       "</div>"
      ],
      "text/plain": [
       "    Congruent  Incongruent  Differences\n",
       "1      12.079       19.278       -7.199\n",
       "2      16.791       18.741       -1.950\n",
       "3       9.564       21.214      -11.650\n",
       "4       8.630       15.687       -7.057\n",
       "5      14.669       22.803       -8.134\n",
       "6      12.238       20.878       -8.640\n",
       "7      14.692       24.572       -9.880\n",
       "8       8.987       17.394       -8.407\n",
       "9       9.401       20.762      -11.361\n",
       "10     14.480       26.282      -11.802\n",
       "11     22.328       24.524       -2.196\n",
       "12     15.298       18.644       -3.346\n",
       "13     15.073       17.510       -2.437\n",
       "14     16.929       20.330       -3.401\n",
       "15     18.200       35.255      -17.055\n",
       "16     12.130       22.158      -10.028\n",
       "17     18.495       25.139       -6.644\n",
       "18     10.639       20.429       -9.790\n",
       "19     11.344       17.425       -6.081\n",
       "20     12.369       34.288      -21.919\n",
       "21     12.944       23.894      -10.950\n",
       "22     14.233       17.960       -3.727\n",
       "23     19.710       22.058       -2.348\n",
       "24     16.004       21.157       -5.153"
      ]
     },
     "metadata": {},
     "output_type": "display_data"
    }
   ],
   "source": [
    "from IPython.core.display import display, HTML\n",
    "import scipy.stats as st\n",
    "import stroop as s\n",
    "\n",
    "data = s.loadDataSet()\n",
    "display(data)"
   ]
  },
  {
   "cell_type": "markdown",
   "metadata": {},
   "source": [
    "## Descriptive Analysis\n",
    "\n",
    "Table below shows statistics of each conditions:"
   ]
  },
  {
   "cell_type": "code",
   "execution_count": 48,
   "metadata": {
    "collapsed": false
   },
   "outputs": [
    {
     "data": {
      "text/html": [
       "<div>\n",
       "<table border=\"1\" class=\"dataframe\">\n",
       "  <thead>\n",
       "    <tr style=\"text-align: right;\">\n",
       "      <th></th>\n",
       "      <th>Congruent</th>\n",
       "      <th>Incongruent</th>\n",
       "      <th>Differences</th>\n",
       "    </tr>\n",
       "  </thead>\n",
       "  <tbody>\n",
       "    <tr>\n",
       "      <th>count</th>\n",
       "      <td>24.000000</td>\n",
       "      <td>24.000000</td>\n",
       "      <td>24.000000</td>\n",
       "    </tr>\n",
       "    <tr>\n",
       "      <th>mean</th>\n",
       "      <td>14.051125</td>\n",
       "      <td>22.015917</td>\n",
       "      <td>-7.964792</td>\n",
       "    </tr>\n",
       "    <tr>\n",
       "      <th>std</th>\n",
       "      <td>3.559358</td>\n",
       "      <td>4.797057</td>\n",
       "      <td>4.864827</td>\n",
       "    </tr>\n",
       "    <tr>\n",
       "      <th>min</th>\n",
       "      <td>8.630000</td>\n",
       "      <td>15.687000</td>\n",
       "      <td>-21.919000</td>\n",
       "    </tr>\n",
       "    <tr>\n",
       "      <th>25%</th>\n",
       "      <td>11.895250</td>\n",
       "      <td>18.716750</td>\n",
       "      <td>-10.258500</td>\n",
       "    </tr>\n",
       "    <tr>\n",
       "      <th>50%</th>\n",
       "      <td>14.356500</td>\n",
       "      <td>21.017500</td>\n",
       "      <td>-7.666500</td>\n",
       "    </tr>\n",
       "    <tr>\n",
       "      <th>75%</th>\n",
       "      <td>16.200750</td>\n",
       "      <td>24.051500</td>\n",
       "      <td>-3.645500</td>\n",
       "    </tr>\n",
       "    <tr>\n",
       "      <th>max</th>\n",
       "      <td>22.328000</td>\n",
       "      <td>35.255000</td>\n",
       "      <td>-1.950000</td>\n",
       "    </tr>\n",
       "  </tbody>\n",
       "</table>\n",
       "</div>"
      ],
      "text/plain": [
       "       Congruent  Incongruent  Differences\n",
       "count  24.000000    24.000000    24.000000\n",
       "mean   14.051125    22.015917    -7.964792\n",
       "std     3.559358     4.797057     4.864827\n",
       "min     8.630000    15.687000   -21.919000\n",
       "25%    11.895250    18.716750   -10.258500\n",
       "50%    14.356500    21.017500    -7.666500\n",
       "75%    16.200750    24.051500    -3.645500\n",
       "max    22.328000    35.255000    -1.950000"
      ]
     },
     "metadata": {},
     "output_type": "display_data"
    }
   ],
   "source": [
    "stat = data.describe()\n",
    "display(stat)"
   ]
  },
  {
   "cell_type": "markdown",
   "metadata": {},
   "source": [
    "Notice that the mean finish time for congruent words is lower than it is for incongruent words. However, incongruent words finish time is more spread out. \n",
    "\n",
    "Below is a scatter plot showing correlation between the two words conditions and it appears that they do not have a high correlation (*r* = .352), thus two dependent samples t-test is appropriate to test the hypothesis."
   ]
  },
  {
   "cell_type": "code",
   "execution_count": 49,
   "metadata": {
    "collapsed": false
   },
   "outputs": [
    {
     "data": {
      "image/png": "[encoded data removed]",
      "text/plain": [
       "<matplotlib.figure.Figure at 0xbcc42b0>"
      ]
     },
     "metadata": {},
     "output_type": "display_data"
    },
    {
     "name": "stdout",
     "output_type": "stream",
     "text": [
      "Pearson's r = 0.351819527232\n"
     ]
    }
   ],
   "source": [
    "s.scatter(data.Congruent, data.Incongruent)"
   ]
  },
  {
   "cell_type": "markdown",
   "metadata": {},
   "source": [
    "Histogram of finish time differences shows that the distribution of sample differences is positively skewed. However, its skewness and kurtosis values are still within the allowable range of approximate normality of distribution to conduct a t-test (i.e. skew < |2.0| and kurtosis < |9.0|, Posten, 1984). Thus, assumptions to run this test is satisfied. "
   ]
  },
  {
   "cell_type": "code",
   "execution_count": 50,
   "metadata": {
    "collapsed": false,
    "scrolled": true
   },
   "outputs": [
    {
     "data": {
      "image/png": "[encoded data removed]",
      "text/plain": [
       "<matplotlib.figure.Figure at 0x98abcc0>"
      ]
     },
     "metadata": {},
     "output_type": "display_data"
    },
    {
     "name": "stdout",
     "output_type": "stream",
     "text": [
      "Skewness = -1.0049347118\n",
      "Kurtosis = 1.13395878153\n"
     ]
    }
   ],
   "source": [
    "s.hist(data.Differences)"
   ]
  },
  {
   "cell_type": "markdown",
   "metadata": {},
   "source": [
    "## t-Test on Sample Differences\n",
    "\n",
    "Running a negative one-tailed t-test on sample differences, gives the following values:"
   ]
  },
  {
   "cell_type": "code",
   "execution_count": 51,
   "metadata": {
    "collapsed": false
   },
   "outputs": [
    {
     "data": {
      "text/html": [
       "<div>\n",
       "<table border=\"1\" class=\"dataframe\">\n",
       "  <thead>\n",
       "    <tr style=\"text-align: right;\">\n",
       "      <th></th>\n",
       "      <th>mean</th>\n",
       "      <th>std</th>\n",
       "      <th>df</th>\n",
       "      <th>t</th>\n",
       "      <th>t_critical</th>\n",
       "      <th>p</th>\n",
       "      <th>type</th>\n",
       "    </tr>\n",
       "  </thead>\n",
       "  <tbody>\n",
       "    <tr>\n",
       "      <th>t-test</th>\n",
       "      <td>-7.96479166667</td>\n",
       "      <td>4.86482691036</td>\n",
       "      <td>23</td>\n",
       "      <td>-8.02070694411</td>\n",
       "      <td>-3.4849643748</td>\n",
       "      <td>2.05150029286e-08</td>\n",
       "      <td>one-tailed, neg</td>\n",
       "    </tr>\n",
       "  </tbody>\n",
       "</table>\n",
       "</div>"
      ],
      "text/plain": [
       "                  mean            std  df               t     t_critical  \\\n",
       "t-test  -7.96479166667  4.86482691036  23  -8.02070694411  -3.4849643748   \n",
       "\n",
       "                        p             type  \n",
       "t-test  2.05150029286e-08  one-tailed, neg  "
      ]
     },
     "metadata": {},
     "output_type": "display_data"
    }
   ],
   "source": [
    "cohens_d, r_squared, result = s.ttest(data.Differences,.001,tail=1,direction=-1)\n",
    "display(result)"
   ]
  },
  {
   "cell_type": "markdown",
   "metadata": {},
   "source": [
    "These values show that *t* is less than $t_{critical}$, with a probability of getting *t* by chance is less than .001. Therefore, we reject the null hypothesis, and the alternative hypothesis is accepted. We conclude that mean performance in Stroop task is statistically significantly lower in incongruent than in congruent words condition. This result match the expected result mentioned above.\n",
    "\n",
    "Cohen's *d* calculation below indicates that the mean of sample differences has a meaningfully large effect size, while the coefficient of determination and 99.9% confidence interval on mean sample difference give a sign that alternative explanation for having the above result can be ruled out."
   ]
  },
  {
   "cell_type": "code",
   "execution_count": 52,
   "metadata": {
    "collapsed": false
   },
   "outputs": [
    {
     "name": "stdout",
     "output_type": "stream",
     "text": [
      "Cohen's d = -1.63721994912\n",
      "r_squared = 0.736636416145\n",
      "99.9% CI = [-11.706152967972571, -4.2234303653607599]\n"
     ]
    }
   ],
   "source": [
    "print (\"Cohen's d = \" + str(cohens_d))\n",
    "print (\"r_squared = \" + str(r_squared))\n",
    "print \"99.9% CI = \" + str(s.ci(data.Differences,.999))"
   ]
  },
  {
   "cell_type": "markdown",
   "metadata": {},
   "source": [
    "## Conclusion\n",
    "\n",
    "To test the hypothesis that the mean finish time in incongruent words condition (*M* = 14.051, *SD* = 3.559) was higher than the mean finish time in congruent words condition (*M* = 14.051, *SD* =3.559), a negative one-tailed t-test was conducted at .001 significant level. A prior examination of linear correlation between the two conditions was conducted, giving an estimated correlation coefficient of .352. Another prior examination of finish time differences assume the normality of sample differences with the skew and kurtosis level estimated at -1.00 and 1.13 respectively. The null hypothesis of mean finish time differences between congruent and incongruent condition is greater than or equal to zero is rejected; *t*(23) = -8.021, *p* < .001. Thus, Stroop task performance in incongruent words condition was statistically significantly lower than in congruent words condition. Cohen's d was estimated at -1.64, meanwhile $r^{2}$ was estimated at .74. The 99.9% confidence interval of mean differences; 99.9% *CI* = (-11.71, -4.22)\n",
    "\n",
    "## Further Research And Similar Application\n",
    "\n",
    "John Riddley Stroop, the man who discovered the occurrence of Stroop effect in 1930s, explained the occurrence of the Stroop effect as a result of two conflicting information received by the brain that cause people to struggle to name the colors of incongruent words. The article \"The Stroop effect - Is your mind playing tricks on you?\" describes that Stroop developed two experimental theories to explain this occurrence namely the Speed of Processing Theory and the Selective Attention Theory.\n",
    "\n",
    "In the Speed of Processing Theory Stroop showed that interference occurs because people can read words a lot quicker than naming the color of the word, and that the later exercise is more complex than the first. In the Selective Attention Theory, Stroop presented that interference occurs because naming the actual color of the word requires more attention than reading the words.\n",
    "\n",
    "Stroop effect is mentioned and being referenced in many data visualization studies and articles. The task is often used to show how visualization can send mixed information to the brain and mask the most important information that we tried to convey. Thus, through a good understanding of this phenomenon, we hope to build more effective data visualization. \n",
    "\n",
    "\n",
    "\n",
    "## References:\n",
    "\n",
    "1. \"Dependent T-Test using SPSS Statistics.\" Dependent T-Test in SPSS Statistics - The procedure for running the test, generating the output and understanding the output using a relevant example | Laerd Statistics. N.p., n.d. Web. 06 Apr. 2017.\n",
    "\n",
    "2. Cohen, J. (1992). A power primer. *Psychological Bulletin*,112, 155-159.\n",
    "\n",
    "3. H. (2014, March 21). Paired Samples t-test: Writing-Up Results. Retrieved from https://www.youtube.com/watch?annotation_id=annotation_759518491&feature=iv&src_vid=p2r9NHam4vg&v=LPOEdtw7Sjo\n",
    "\n",
    "4. H. (2014, March 21). Paired Samples t-test: Writing-Up Results (Part 2). Retrieved from https://www.youtube.com/watch?v=p2r9NHam4vg\n",
    "\n",
    "5. The Stroop effect - The Stroop effect - Is your mind playing tricks on you? (n.d.). Retrieved from https://d2l.deakin.edu.au/d2l/eP/presentations/presentation_preview_popup.d2l?presId=67655\n",
    "\n",
    "\n"
   ]
  }
 ],
 "metadata": {
  "anaconda-cloud": {},
  "kernelspec": {
   "display_name": "Python [conda env:DAND]",
   "language": "python",
   "name": "conda-env-DAND-py"
  },
  "language_info": {
   "codemirror_mode": {
    "name": "ipython",
    "version": 2
   },
   "file_extension": ".py",
   "mimetype": "text/x-python",
   "name": "python",
   "nbconvert_exporter": "python",
   "pygments_lexer": "ipython2",
   "version": "2.7.12"
  }
 },
 "nbformat": 4,
 "nbformat_minor": 2
}
